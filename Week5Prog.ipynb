{
  "metadata": {
    "kernelspec": {
      "name": "python",
      "display_name": "Python (Pyodide)",
      "language": "python"
    },
    "language_info": {
      "codemirror_mode": {
        "name": "python",
        "version": 3
      },
      "file_extension": ".py",
      "mimetype": "text/x-python",
      "name": "python",
      "nbconvert_exporter": "python",
      "pygments_lexer": "ipython3",
      "version": "3.8"
    }
  },
  "nbformat_minor": 5,
  "nbformat": 4,
  "cells": [
    {
      "id": "33b73d97-db30-44ca-9383-dcd1bfdf0a95",
      "cell_type": "code",
      "source": "def my_sum(numbers):\n    total = 0\n    for number in numbers:\n        total += number\n    return total\n\n# Test 1: Integer list\nassert my_sum([1, 2, 3]) == 6, \"Test Failed: Expected 6\"\n\n# Test 2: Tuple of integers\nassert my_sum((1, 2, 3)) == 6, \"Test Failed: Expected 6\"\n\nfrom fractions import Fraction\n\n# Test 3: Fractions\nresult = my_sum([Fraction(1, 4), Fraction(1, 4), Fraction(2, 5)])\nexpected = Fraction(9, 10)\nassert result == expected, f\"Test Failed: Expected {expected}, got {result}\"\n\n# Test 4: Bad input - string in list\ntry:\n    my_sum([1, \"a\", 3])\n    print(\"Test Failed: Expected TypeError\")\nexcept TypeError:\n    print(\"Test Passed: Caught TypeError\")\n",
      "metadata": {
        "trusted": true
      },
      "outputs": [
        {
          "name": "stdout",
          "output_type": "stream",
          "text": "Test Passed: Caught TypeError\n"
        }
      ],
      "execution_count": 2
    },
    {
      "id": "a019a0c8-33d8-4c77-9abb-670db44ae2b8",
      "cell_type": "code",
      "source": "",
      "metadata": {
        "trusted": true
      },
      "outputs": [],
      "execution_count": null
    }
  ]
}